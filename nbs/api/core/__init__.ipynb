{
 "cells": [
  {
   "cell_type": "markdown",
   "id": "428ff2c1",
   "metadata": {},
   "source": [
    "# core"
   ]
  },
  {
   "cell_type": "code",
   "execution_count": null,
   "id": "4eed11f3",
   "metadata": {},
   "outputs": [],
   "source": [
    "#|default_exp core"
   ]
  },
  {
   "cell_type": "code",
   "execution_count": null,
   "id": "98d7cc7e",
   "metadata": {},
   "outputs": [],
   "source": [
    "#|hide\n",
    "import nblite; from nbdev.showdoc import show_doc; nblite.nbl_export()"
   ]
  },
  {
   "cell_type": "code",
   "execution_count": null,
   "id": "c53261be",
   "metadata": {},
   "outputs": [],
   "source": [
    "#|export\n",
    "# Imports will be resolved after export"
   ]
  }
 ],
 "metadata": {
  "jupytext": {
   "cell_metadata_filter": "-all",
   "main_language": "python",
   "notebook_metadata_filter": "-all"
  }
 },
 "nbformat": 4,
 "nbformat_minor": 5
}

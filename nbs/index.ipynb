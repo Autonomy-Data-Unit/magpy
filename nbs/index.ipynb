{
    "cells": [
        {
            "cell_type": "markdown",
            "id": "64c608f0",
            "metadata": {},
            "source": [
                "# magpy\n",
                "\n",
                "> A powerful Python library for extracting structured data from unstructured text using Large Language Models (LLMs). magpy provides a simple, flexible interface for converting free-form text into structured, machine-readable data formats."
            ]
        },
        {
            "cell_type": "code",
            "execution_count": null,
            "id": "6b9efd94",
            "metadata": {},
            "outputs": [],
            "source": [
                "#|hide\n",
                "import nblite; from nbdev.showdoc import show_doc; nblite.nbl_export()"
            ]
        },
        {
            "cell_type": "code",
            "execution_count": null,
            "id": "16ab6704",
            "metadata": {},
            "outputs": [],
            "source": [
                "#|hide\n",
                "import magpy as proj"
            ]
        },
        {
            "cell_type": "markdown",
            "id": "d5ec6f39",
            "metadata": {},
            "source": [
                "## Installation\n",
                "\n",
                "```bash\n",
                "pip install git+https://github.com/Autonomy-Data-Unit/magpy\n",
                "```\n",
                "\n",
                "Execute the following commands in your terminal to quickly set up a testing environment where you can try out magpy's features:\n",
                "\n",
                "```bash\n",
                "mkdir magpy-test # Create folder to test MagPy in\n",
                "cd magpy-test\n",
                "# Download example notebooks\n",
                "curl -O https://raw.githubusercontent.com/Autonomy-Data-Unit/magpy/refs/heads/main/nbs/examples/extract/00_data_extraction_from_text.ipynb\n",
                "curl -O https://raw.githubusercontent.com/Autonomy-Data-Unit/magpy/refs/heads/main/nbs/examples/extract/01_pdfs_to_csv.ipynb\n",
                "# Download example PDF files\n",
                "mkdir charity_accounts\n",
                "curl -o \"charity_accounts/3966635 2023-12-31 THE DAVID SNOWDON TRUST.pdf\" https://raw.githubusercontent.com/Autonomy-Data-Unit/magpy/refs/heads/main/nbs/examples/extract/charity_accounts/3966635%202023-12-31%20THE%20DAVID%20SNOWDON%20TRUST.pdf\n",
                "curl -o \"charity_accounts/4028313 2020-12-31 CATS IN CRISIS.pdf\" https://raw.githubusercontent.com/Autonomy-Data-Unit/magpy/refs/heads/main/nbs/examples/extract/charity_accounts/4028313%202020-12-31%20CATS%20IN%20CRISIS.pdf\n",
                "curl -o \"charity_accounts/5211224 2023-12-31 ROYAL ENGINEERS HEADQUARTER MESS.pdf\" https://raw.githubusercontent.com/Autonomy-Data-Unit/magpy/refs/heads/main/nbs/examples/extract/charity_accounts/5211224%202023-12-31%20ROYAL%20ENGINEERS%20HEADQUARTER%20MESS.pdf\n",
                "# Create a virtual environment and install dependencies\n",
                "python -m venv venv\n",
                "source ./venv/bin/activate\n",
                "pip install git+https://github.com/Autonomy-Data-Unit/magpy\n",
                "pip install jupyterlab\n",
                "# Create a .env file in the directory\n",
                "echo \"OPENAI_API_KEY=\" > .env\n",
                "# Run jupyterlab\n",
                "jupyter lab\n",
                "```\n",
                "\n",
                "**Note:** To run the notebooks, you must first register for an API key from an LLM provider. In the example scripts we are using OpenAI's models, so you'll need to get an API key from https://openai.com/api/, and then paste it into the `.env` file created in one of the commands above. As Jupyter does not by default display hidden files you cannot edit `.env` from within Jupyter Lab. On Mac you can open the file by executing `open .env` in the terminal."
            ]
        },
        {
            "cell_type": "markdown",
            "id": "19418eca",
            "metadata": {},
            "source": [
                "## Quick Start\n",
                "\n",
                "For detailed examples see the [examples](./nbs/examples/) folder.\n",
                "\n",
                "### Basic Usage\n",
                "\n",
                "```python\n",
                "from magpy import extract_structured, set_magpy_config\n",
                "import os\n",
                "\n",
                "# Configure the LLM\n",
                "set_magpy_config(\n",
                "    api_key=os.getenv(\"OPENAI_API_KEY\"), \n",
                "    model_name=\"gpt-4o\",    \n",
                "    temperature=0.1,\n",
                "    cache_path='.cache'\n",
                ")\n",
                "\n",
                "# Define your extraction schema\n",
                "schema = {\n",
                "    \"name\": str,\n",
                "    \"amount\": int,\n",
                "    \"date\": datetime,\n",
                "    \"category\": str\n",
                "}\n",
                "\n",
                "# Extract structured data from text\n",
                "text = \"John Doe donated $500 to the charity on 2024-01-15 for education programs.\"\n",
                "result = extract_structured(text=text, schema=schema)\n",
                "print(result)\n",
                "# Output: {'name': 'John Doe', 'amount': 500, 'date': datetime(2024, 1, 15), 'category': 'education'}\n",
                "```"
            ]
        },
        {
            "cell_type": "markdown",
            "id": "4c08ac53",
            "metadata": {},
            "source": [
                "## Contributing\n",
                "\n",
                "To contribute to the development of the package, follow the below instructions.\n",
                "\n",
                "### Prerequisites\n",
                "\n",
                "- Install [uv](https://docs.astral.sh/uv/getting-started/installation/).\n",
                "- Install [direnv](https://direnv.net/) to automatically load the project virtual environment when entering it.\n",
                "    - Mac: `brew install direnv`\n",
                "    - Linux: `curl -sfL https://direnv.net/install.sh | bash`\n",
                "\n",
                "### Setting up the environment\n",
                "\n",
                "Run the following:\n",
                "\n",
                "```bash\n",
                "# In the root of the repo folder\n",
                "uv sync --all-extras # Installs the virtual environment at './.venv'\n",
                "direnv allow # Allows the automatic running of the script './.envrc'\n",
                "nbl install-hooks # Installs a git hooks that ensures that notebooks are added properly\n",
                "```\n",
                "\n",
                "You are now set up to develop the codebase.\n",
                "\n",
                "Further instructions:\n",
                "\n",
                "- To export notebooks run `nbl export`.\n",
                "- To clean notebooks run `nbl clean`.\n",
                "- To see other available commands run just `nbl`.\n",
                "- To add a new dependency run `uv add package-name`. See the the [uv documentation](https://docs.astral.sh/uv/) for more details.\n",
                "- You need to `git add` all 'twinned' notebooks for the commit to be validated by the git-hook. For example, if you add `nbs/my-nb.ipynb`, you must also add `pts/my-nb.pct.py`.\n",
                "- To render the documentation, run `nbl render-docs`. To preview it run `nbl preview-docs`\n",
                "- To upgrade all dependencies run `uv sync --upgrade --all-extras`\n",
                "<!-- #endregion -->\n",
                "\n",
                "## Support\n",
                "\n",
                "For questions, issues, or contributions, please open an issue on the GitHub repository."
            ]
        }
    ],
    "metadata": {
        "jupytext": {
            "cell_metadata_filter": "-all",
            "main_language": "python",
            "notebook_metadata_filter": "-all"
        },
        "language_info": {
            "codemirror_mode": {
                "name": "ipython",
                "version": 3
            },
            "file_extension": ".py",
            "mimetype": "text/x-python",
            "name": "python",
            "nbconvert_exporter": "python",
            "pygments_lexer": "ipython3",
            "version": "3.11.11"
        },
        "nblite_source_hash": "624ce4ef922a1342c2a431072fbb1b259ea47aa642562e2ff18249c721e0d1ba"
    },
    "nbformat": 4,
    "nbformat_minor": 5
}
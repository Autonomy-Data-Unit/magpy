{
    "cells": [
        {
            "cell_type": "markdown",
            "id": "8cc384f5",
            "metadata": {},
            "source": [
                "# utils"
            ]
        },
        {
            "cell_type": "code",
            "execution_count": null,
            "id": "99f4861d",
            "metadata": {},
            "outputs": [],
            "source": [
                "#|default_exp utils"
            ]
        },
        {
            "cell_type": "code",
            "execution_count": null,
            "id": "21c896f4",
            "metadata": {},
            "outputs": [
                {
                    "name": "stderr",
                    "output_type": "stream",
                    "text": [
                        "/Users/lukastk/dev/2025-06-16_00__magpy/.venv/lib/python3.11/site-packages/nbdev/doclinks.py:20: UserWarning: pkg_resources is deprecated as an API. See https://setuptools.pypa.io/en/latest/pkg_resources.html. The pkg_resources package is slated for removal as early as 2025-11-30. Refrain from using this package or pin to Setuptools<81.\n",
                        "  import pkg_resources,importlib\n"
                    ]
                }
            ],
            "source": [
                "#|hide\n",
                "import nblite; from nbdev.showdoc import show_doc; nblite.nbl_export()"
            ]
        },
        {
            "cell_type": "code",
            "execution_count": null,
            "id": "3802ed44",
            "metadata": {},
            "outputs": [],
            "source": [
                "#|export\n",
                "import magpy as proj\n",
                "from magpy import const"
            ]
        },
        {
            "cell_type": "code",
            "execution_count": null,
            "id": "a39c7df9",
            "metadata": {},
            "outputs": [],
            "source": [
                "import magpy.utils as this_module"
            ]
        },
        {
            "cell_type": "code",
            "execution_count": null,
            "id": "bd983dbe",
            "metadata": {},
            "outputs": [
                {
                    "data": {
                        "text/markdown": [
                            "---\n",
                            "\n",
                            "### foo\n",
                            "\n",
                            ">      foo ()"
                        ],
                        "text/plain": [
                            "---\n",
                            "\n",
                            "### foo\n",
                            "\n",
                            ">      foo ()"
                        ]
                    },
                    "execution_count": null,
                    "metadata": {},
                    "output_type": "execute_result"
                }
            ],
            "source": [
                "show_doc(this_module.foo)"
            ]
        },
        {
            "cell_type": "code",
            "execution_count": null,
            "id": "8d3c9fbf",
            "metadata": {},
            "outputs": [],
            "source": [
                "#|export\n",
                "def foo():\n",
                "    print(\"Hello\")"
            ]
        }
    ],
    "metadata": {
        "jupytext": {
            "cell_metadata_filter": "-all",
            "main_language": "python",
            "notebook_metadata_filter": "-all"
        },
        "language_info": {
            "codemirror_mode": {
                "name": "ipython",
                "version": 3
            },
            "file_extension": ".py",
            "mimetype": "text/x-python",
            "name": "python",
            "nbconvert_exporter": "python",
            "pygments_lexer": "ipython3",
            "version": "3.11.11"
        },
        "nblite_source_hash": "e2082da1d19a16192ddfba5c81abc53fb5fa1180b86a0327bc369ad3d8f4e288"
    },
    "nbformat": 4,
    "nbformat_minor": 5
}
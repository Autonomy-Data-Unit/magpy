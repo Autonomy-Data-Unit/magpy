{
    "cells": [
        {
            "cell_type": "markdown",
            "id": "193ef95d",
            "metadata": {},
            "source": [
                "# const"
            ]
        },
        {
            "cell_type": "code",
            "execution_count": null,
            "id": "b467184f",
            "metadata": {},
            "outputs": [],
            "source": [
                "#|default_exp const"
            ]
        },
        {
            "cell_type": "code",
            "execution_count": null,
            "id": "4185f2f7",
            "metadata": {},
            "outputs": [
                {
                    "name": "stderr",
                    "output_type": "stream",
                    "text": [
                        "/Users/lukastk/dev/2025-06-16_00__magpy/.venv/lib/python3.11/site-packages/nbdev/doclinks.py:20: UserWarning: pkg_resources is deprecated as an API. See https://setuptools.pypa.io/en/latest/pkg_resources.html. The pkg_resources package is slated for removal as early as 2025-11-30. Refrain from using this package or pin to Setuptools<81.\n",
                        "  import pkg_resources,importlib\n"
                    ]
                }
            ],
            "source": [
                "#|hide\n",
                "import nblite; from nbdev.showdoc import show_doc; nblite.nbl_export()"
            ]
        },
        {
            "cell_type": "code",
            "execution_count": null,
            "id": "40f7ad6b",
            "metadata": {},
            "outputs": [],
            "source": [
                "#|export\n",
                "from pathlib import Path\n",
                "import toml\n",
                "from typing import Optional\n",
                "from pydantic import BaseModel, ConfigDict, model_validator\n",
                "from pathlib import Path\n",
                "from importlib import resources\n",
                "import adulib, adulib.llm\n",
                "from dotenv import load_dotenv\n",
                "import magpy as proj"
            ]
        },
        {
            "cell_type": "code",
            "execution_count": null,
            "id": "db37af55",
            "metadata": {},
            "outputs": [],
            "source": [
                "#|export\n",
                "from magpy.config import PathConfig, Config, get_config"
            ]
        },
        {
            "cell_type": "markdown",
            "id": "f7f45cb7",
            "metadata": {},
            "source": [
                "Set up paths"
            ]
        },
        {
            "cell_type": "code",
            "execution_count": null,
            "id": "6c552030",
            "metadata": {},
            "outputs": [],
            "source": [
                "#|export\n",
                "# Automaticlally set store paths based on the config\n",
                "config = get_config()\n",
                "for field in Config.model_fields:\n",
                "    if not issubclass(Config.model_fields[field].annotation, PathConfig): continue\n",
                "    locals()[field] = config.get_path(field)\n",
                "    locals()[field].mkdir(parents=True, exist_ok=True)"
            ]
        },
        {
            "cell_type": "code",
            "execution_count": null,
            "id": "ccb509a8",
            "metadata": {},
            "outputs": [],
            "source": [
                "#|export\n",
                "scripts_path = resources.files(f'{proj.__name__}').joinpath('scripts').resolve()\n",
                "assets_path = resources.files(f'{proj.__name__}').joinpath('assets').resolve()"
            ]
        },
        {
            "cell_type": "markdown",
            "id": "97f08b5e",
            "metadata": {},
            "source": [
                "Set up default caching and LLM call logging"
            ]
        },
        {
            "cell_type": "code",
            "execution_count": null,
            "id": "f6f21767",
            "metadata": {},
            "outputs": [],
            "source": [
                "#|export\n",
                "adulib.caching.set_default_cache_path(caches_path / 'default')\n",
                "adulib.llm.set_call_log_save_path(store_path / 'call_log.jsonl')"
            ]
        },
        {
            "cell_type": "markdown",
            "id": "c3008ba7",
            "metadata": {},
            "source": [
                "Load environment variables"
            ]
        },
        {
            "cell_type": "code",
            "execution_count": null,
            "id": "3e677fb9",
            "metadata": {},
            "outputs": [
                {
                    "data": {
                        "text/plain": [
                            "True"
                        ]
                    },
                    "execution_count": null,
                    "metadata": {},
                    "output_type": "execute_result"
                }
            ],
            "source": [
                "#|export\n",
                "load_dotenv()"
            ]
        }
    ],
    "metadata": {
        "jupytext": {
            "cell_metadata_filter": "-all",
            "main_language": "python",
            "notebook_metadata_filter": "-all"
        },
        "language_info": {
            "codemirror_mode": {
                "name": "ipython",
                "version": 3
            },
            "file_extension": ".py",
            "mimetype": "text/x-python",
            "name": "python",
            "nbconvert_exporter": "python",
            "pygments_lexer": "ipython3",
            "version": "3.11.11"
        },
        "nblite_source_hash": "8f4c8cfb9df75eba472e210ccd74bf9a055a1eec3b1c324f8ca8d49d1d148c5e"
    },
    "nbformat": 4,
    "nbformat_minor": 5
}
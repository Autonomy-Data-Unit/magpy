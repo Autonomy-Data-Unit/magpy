{
    "cells": [
        {
            "cell_type": "markdown",
            "id": "b8aeb84f",
            "metadata": {},
            "source": [
                "# config"
            ]
        },
        {
            "cell_type": "code",
            "execution_count": null,
            "id": "43d16982",
            "metadata": {},
            "outputs": [],
            "source": [
                "#|default_exp config"
            ]
        },
        {
            "cell_type": "code",
            "execution_count": null,
            "id": "56a9bfb9",
            "metadata": {},
            "outputs": [
                {
                    "name": "stderr",
                    "output_type": "stream",
                    "text": [
                        "/Users/lukastk/dev/2025-06-16_00__magpy/.venv/lib/python3.11/site-packages/nbdev/doclinks.py:20: UserWarning: pkg_resources is deprecated as an API. See https://setuptools.pypa.io/en/latest/pkg_resources.html. The pkg_resources package is slated for removal as early as 2025-11-30. Refrain from using this package or pin to Setuptools<81.\n",
                        "  import pkg_resources,importlib\n"
                    ]
                }
            ],
            "source": [
                "#|hide\n",
                "import nblite; from nblite import show_doc; nblite.nbl_export()\n",
                "import magpy.config as this_module"
            ]
        },
        {
            "cell_type": "code",
            "execution_count": null,
            "id": "79d12bb0",
            "metadata": {},
            "outputs": [],
            "source": [
                "#|export\n",
                "from importlib import resources\n",
                "import toml\n",
                "from typing import Optional, Any\n",
                "from pydantic import BaseModel, ConfigDict, model_validator, Field\n",
                "from pathlib import Path\n",
                "import magpy as proj"
            ]
        },
        {
            "cell_type": "code",
            "execution_count": null,
            "id": "7bc413f2",
            "metadata": {},
            "outputs": [],
            "source": [
                "#|export\n",
                "root_path = resources.files(f'{proj.__name__}').joinpath('').resolve()"
            ]
        },
        {
            "cell_type": "code",
            "execution_count": null,
            "id": "5fe0af88",
            "metadata": {},
            "outputs": [],
            "source": [
                "#|export\n",
                "class PathConfig(BaseModel):\n",
                "    parent: Optional[str] = None\n",
                "    path: Path\n",
                "    \n",
                "    @model_validator(mode='before')\n",
                "    @classmethod\n",
                "    def process_path(cls, data: Any) -> Any:\n",
                "        if isinstance(data, str):\n",
                "            data = {'path': data}\n",
                "        data['path'] = Path(data['path'])\n",
                "        if not data.get('parent') and not Path(data['path']).is_absolute(): \n",
                "            raise ValueError(f\"The path '{data}' must be an absolute path.\")\n",
                "        return data"
            ]
        },
        {
            "cell_type": "code",
            "execution_count": null,
            "id": "46f22443",
            "metadata": {},
            "outputs": [],
            "source": [
                "#|export\n",
                "class Config(BaseModel):\n",
                "    model_config = ConfigDict(extra='forbid')\n",
                "    \n",
                "    pkg_root_path: PathConfig = PathConfig(path=resources.files(f'{proj.__name__}').joinpath('').resolve())\n",
                "    store_path: PathConfig\n",
                "    caches_path: PathConfig\n",
                "    data_path: PathConfig\n",
                "    misc_path: PathConfig\n",
                "    pre_output: PathConfig\n",
                "    output_path: PathConfig\n",
                "    \n",
                "    def get_path(self, field: str) -> Path:\n",
                "        field = getattr(self, field)\n",
                "        if field.parent: return self.get_path(f'{field.parent}_path') / field.path\n",
                "        else: return field.path"
            ]
        },
        {
            "cell_type": "code",
            "execution_count": null,
            "id": "d0940395",
            "metadata": {},
            "outputs": [],
            "source": [
                "#|export\n",
                "_config = None\n",
                "def load_config_from_path(config_path: str):\n",
                "    global _config\n",
                "    toml_config = toml.load(config_path)\n",
                "    _config = Config.model_validate(toml_config)\n",
                "config_path = resources.files(f'{proj.__name__}').joinpath('assets/config.toml').resolve()\n",
                "load_config_from_path(config_path)"
            ]
        },
        {
            "cell_type": "code",
            "execution_count": null,
            "id": "803de26c",
            "metadata": {},
            "outputs": [],
            "source": [
                "#|export\n",
                "def get_config(): return _config"
            ]
        },
        {
            "cell_type": "code",
            "execution_count": null,
            "id": "f22da084",
            "metadata": {},
            "outputs": [],
            "source": [
                "#|export\n",
                "def set_config(field_key: str, field_value: str):\n",
                "    \"\"\"\n",
                "    Update the configuration by setting a specified field to a new value.\n",
                "\n",
                "    This function allows updating nested fields within the configuration\n",
                "    by using dot notation in the field_key. For example, to update a field\n",
                "    within a sub-configuration, use 'sub_config.field_name'.\n",
                "\n",
                "    Call `validate_config` after using to ensure that the model data is correct.\n",
                "\n",
                "    Args:\n",
                "        field_key (str): The key of the field to update. Can be a nested key\n",
                "                         using dot notation.\n",
                "        field_value (str): The new value to set for the specified field.\n",
                "\n",
                "    Raises:\n",
                "        AttributeError: If the specified field_key does not exist in the configuration.\n",
                "    \"\"\"\n",
                "    def _set_config_helper(model, field_key: str, field_value: str):\n",
                "        if '.' in field_key:\n",
                "            field_parent_key, field_child_key = field_key.split('.', 1)\n",
                "            _set_config_helper(getattr(model, field_parent_key), field_child_key, field_value)\n",
                "            return\n",
                "        setattr(model, field_key, field_value)\n",
                "    _set_config_helper(_config, field_key, field_value)"
            ]
        },
        {
            "cell_type": "code",
            "execution_count": null,
            "id": "8a6e4c3b",
            "metadata": {},
            "outputs": [],
            "source": [
                "#|export\n",
                "def update_config_from_pairs(key_value_pairs: list[str]):\n",
                "    for key_value_pair in key_value_pairs:\n",
                "        key, value = key_value_pair.split('=', 1)\n",
                "        set_config(key, value)"
            ]
        },
        {
            "cell_type": "code",
            "execution_count": null,
            "id": "d3272c63",
            "metadata": {},
            "outputs": [],
            "source": [
                "#|export\n",
                "def validate_config():\n",
                "    global _config\n",
                "    _config = Config.model_validate(_config.model_dump())"
            ]
        }
    ],
    "metadata": {
        "jupytext": {
            "cell_metadata_filter": "-all",
            "main_language": "python",
            "notebook_metadata_filter": "-all"
        },
        "language_info": {
            "codemirror_mode": {
                "name": "ipython",
                "version": 3
            },
            "file_extension": ".py",
            "mimetype": "text/x-python",
            "name": "python",
            "nbconvert_exporter": "python",
            "pygments_lexer": "ipython3",
            "version": "3.11.11"
        },
        "nblite_source_hash": "ff495339b63a30b6929cfd123f02b3cf39ed7748986ee0779d6fc1e17995af36"
    },
    "nbformat": 4,
    "nbformat_minor": 5
}
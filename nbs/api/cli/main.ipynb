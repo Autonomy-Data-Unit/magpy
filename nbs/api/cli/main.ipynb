{
    "cells": [
        {
            "cell_type": "markdown",
            "id": "0b8051b5",
            "metadata": {},
            "source": [
                "# main"
            ]
        },
        {
            "cell_type": "code",
            "execution_count": null,
            "id": "0f97617e",
            "metadata": {},
            "outputs": [],
            "source": [
                "#|default_exp cli.main"
            ]
        },
        {
            "cell_type": "code",
            "execution_count": null,
            "id": "4ae22672",
            "metadata": {},
            "outputs": [
                {
                    "name": "stderr",
                    "output_type": "stream",
                    "text": [
                        "/Users/lukastk/dev/2025-06-16_00__magpy/.venv/lib/python3.11/site-packages/nbdev/doclinks.py:20: UserWarning: pkg_resources is deprecated as an API. See https://setuptools.pypa.io/en/latest/pkg_resources.html. The pkg_resources package is slated for removal as early as 2025-11-30. Refrain from using this package or pin to Setuptools<81.\n",
                        "  import pkg_resources,importlib\n"
                    ]
                }
            ],
            "source": [
                "#|hide\n",
                "import nblite; from nbdev.showdoc import show_doc; nblite.nbl_export()"
            ]
        },
        {
            "cell_type": "code",
            "execution_count": null,
            "id": "1a9fc7e7",
            "metadata": {},
            "outputs": [],
            "source": [
                "#|export\n",
                "import typer\n",
                "from typer import Argument, Option\n",
                "from typing_extensions import Annotated\n",
                "from types import FunctionType\n",
                "from typing import Callable, Union, List\n",
                "from pathlib import Path\n",
                "import importlib\n",
                "\n",
                "import magpy as proj\n",
                "from magpy import const\n",
                "from magpy.cli.app import app\n",
                "from magpy.config import get_config, update_config_from_pairs, validate_config, load_config_from_path"
            ]
        },
        {
            "cell_type": "markdown",
            "id": "915c159e",
            "metadata": {},
            "source": [
                "## Main command"
            ]
        },
        {
            "cell_type": "code",
            "execution_count": null,
            "id": "8349066c",
            "metadata": {},
            "outputs": [],
            "source": [
                "#|export\n",
                "@app.callback()\n",
                "def entrypoint(\n",
                "    ctx: typer.Context,\n",
                "    config_path: str = typer.Option(None, \"--config-path\", help=\"Path to config file.\"),\n",
                "    config_mods: List[str] = typer.Option(None, \"--config\", \"-c\", help=\"Set config values. Use key=value pairs. Run `list-config` to see all available config variables.\")\n",
                "):\n",
                "    if config_path:\n",
                "        load_config_from_path(config_path)\n",
                "    if config_mods:\n",
                "        update_config_from_pairs(config_mods)\n",
                "    if config_path or config_mods:\n",
                "        validate_config()\n",
                "        importlib.reload(const)\n",
                "    if ctx.invoked_subcommand is None:\n",
                "        typer.echo(ctx.get_help())"
            ]
        },
        {
            "cell_type": "code",
            "execution_count": null,
            "id": "b00a4ad8",
            "metadata": {},
            "outputs": [
                {
                    "name": "stdout",
                    "output_type": "stream",
                    "text": [
                        "\u001b[1m                                                                                \u001b[0m\r\n",
                        "\u001b[1m \u001b[0m\u001b[1;33mUsage: \u001b[0m\u001b[1mmagpy [OPTIONS] COMMAND [ARGS]...\u001b[0m\u001b[1m                                      \u001b[0m\u001b[1m \u001b[0m\r\n",
                        "\u001b[1m                                                                                \u001b[0m\r\n",
                        "\u001b[2m\u256d\u2500\u001b[0m\u001b[2m Options \u001b[0m\u001b[2m\u2500\u2500\u2500\u2500\u2500\u2500\u2500\u2500\u2500\u2500\u2500\u2500\u2500\u2500\u2500\u2500\u2500\u2500\u2500\u2500\u2500\u2500\u2500\u2500\u2500\u2500\u2500\u2500\u2500\u2500\u2500\u2500\u2500\u2500\u2500\u2500\u2500\u2500\u2500\u2500\u2500\u2500\u2500\u2500\u2500\u2500\u2500\u2500\u2500\u2500\u2500\u2500\u2500\u2500\u2500\u2500\u2500\u2500\u2500\u2500\u2500\u2500\u2500\u2500\u2500\u2500\u2500\u001b[0m\u001b[2m\u2500\u256e\u001b[0m\r\n",
                        "\u001b[2m\u2502\u001b[0m \u001b[1;36m-\u001b[0m\u001b[1;36m-config\u001b[0m\u001b[1;36m-path\u001b[0m                 \u001b[1;33mTEXT\u001b[0m  Path to config file. \u001b[2m[default: None]\u001b[0m     \u001b[2m\u2502\u001b[0m\r\n",
                        "\u001b[2m\u2502\u001b[0m \u001b[1;36m-\u001b[0m\u001b[1;36m-config\u001b[0m              \u001b[1;32m-c\u001b[0m      \u001b[1;33mTEXT\u001b[0m  Set config values. Use key=value pairs.  \u001b[2m\u2502\u001b[0m\r\n",
                        "\u001b[2m\u2502\u001b[0m                                     Run `list-config` to see all available   \u001b[2m\u2502\u001b[0m\r\n",
                        "\u001b[2m\u2502\u001b[0m                                     config variables.                        \u001b[2m\u2502\u001b[0m\r\n",
                        "\u001b[2m\u2502\u001b[0m                                     \u001b[2m[default: None]                         \u001b[0m \u001b[2m\u2502\u001b[0m\r\n",
                        "\u001b[2m\u2502\u001b[0m \u001b[1;36m-\u001b[0m\u001b[1;36m-install\u001b[0m\u001b[1;36m-completion\u001b[0m          \u001b[1;33m    \u001b[0m  Install completion for the current       \u001b[2m\u2502\u001b[0m\r\n",
                        "\u001b[2m\u2502\u001b[0m                                     shell.                                   \u001b[2m\u2502\u001b[0m\r\n",
                        "\u001b[2m\u2502\u001b[0m \u001b[1;36m-\u001b[0m\u001b[1;36m-show\u001b[0m\u001b[1;36m-completion\u001b[0m             \u001b[1;33m    \u001b[0m  Show completion for the current shell,   \u001b[2m\u2502\u001b[0m\r\n",
                        "\u001b[2m\u2502\u001b[0m                                     to copy it or customize the              \u001b[2m\u2502\u001b[0m\r\n",
                        "\u001b[2m\u2502\u001b[0m                                     installation.                            \u001b[2m\u2502\u001b[0m\r\n",
                        "\u001b[2m\u2502\u001b[0m \u001b[1;36m-\u001b[0m\u001b[1;36m-help\u001b[0m                        \u001b[1;33m    \u001b[0m  Show this message and exit.              \u001b[2m\u2502\u001b[0m\r\n",
                        "\u001b[2m\u2570\u2500\u2500\u2500\u2500\u2500\u2500\u2500\u2500\u2500\u2500\u2500\u2500\u2500\u2500\u2500\u2500\u2500\u2500\u2500\u2500\u2500\u2500\u2500\u2500\u2500\u2500\u2500\u2500\u2500\u2500\u2500\u2500\u2500\u2500\u2500\u2500\u2500\u2500\u2500\u2500\u2500\u2500\u2500\u2500\u2500\u2500\u2500\u2500\u2500\u2500\u2500\u2500\u2500\u2500\u2500\u2500\u2500\u2500\u2500\u2500\u2500\u2500\u2500\u2500\u2500\u2500\u2500\u2500\u2500\u2500\u2500\u2500\u2500\u2500\u2500\u2500\u2500\u2500\u256f\u001b[0m\r\n",
                        "\u001b[2m\u256d\u2500\u001b[0m\u001b[2m Commands \u001b[0m\u001b[2m\u2500\u2500\u2500\u2500\u2500\u2500\u2500\u2500\u2500\u2500\u2500\u2500\u2500\u2500\u2500\u2500\u2500\u2500\u2500\u2500\u2500\u2500\u2500\u2500\u2500\u2500\u2500\u2500\u2500\u2500\u2500\u2500\u2500\u2500\u2500\u2500\u2500\u2500\u2500\u2500\u2500\u2500\u2500\u2500\u2500\u2500\u2500\u2500\u2500\u2500\u2500\u2500\u2500\u2500\u2500\u2500\u2500\u2500\u2500\u2500\u2500\u2500\u2500\u2500\u2500\u2500\u001b[0m\u001b[2m\u2500\u256e\u001b[0m\r\n",
                        "\u001b[2m\u2502\u001b[0m \u001b[1;36mrun-core    \u001b[0m\u001b[1;36m \u001b[0m Run all scripts in the `core` submodule in alphanumerical      \u001b[2m\u2502\u001b[0m\r\n",
                        "\u001b[2m\u2502\u001b[0m \u001b[1;36m             \u001b[0m order                                                          \u001b[2m\u2502\u001b[0m\r\n",
                        "\u001b[2m\u2502\u001b[0m \u001b[1;36mlist-config \u001b[0m\u001b[1;36m \u001b[0m List all config variables.                                     \u001b[2m\u2502\u001b[0m\r\n",
                        "\u001b[2m\u2502\u001b[0m \u001b[1;36mconfig-path \u001b[0m\u001b[1;36m \u001b[0m Get the path to the configuration file.                        \u001b[2m\u2502\u001b[0m\r\n",
                        "\u001b[2m\u2570\u2500\u2500\u2500\u2500\u2500\u2500\u2500\u2500\u2500\u2500\u2500\u2500\u2500\u2500\u2500\u2500\u2500\u2500\u2500\u2500\u2500\u2500\u2500\u2500\u2500\u2500\u2500\u2500\u2500\u2500\u2500\u2500\u2500\u2500\u2500\u2500\u2500\u2500\u2500\u2500\u2500\u2500\u2500\u2500\u2500\u2500\u2500\u2500\u2500\u2500\u2500\u2500\u2500\u2500\u2500\u2500\u2500\u2500\u2500\u2500\u2500\u2500\u2500\u2500\u2500\u2500\u2500\u2500\u2500\u2500\u2500\u2500\u2500\u2500\u2500\u2500\u2500\u2500\u256f\u001b[0m\r\n",
                        "\r\n"
                    ]
                }
            ],
            "source": [
                "!magpy"
            ]
        },
        {
            "cell_type": "markdown",
            "id": "7920b3cd",
            "metadata": {},
            "source": [
                "## `run-core`"
            ]
        },
        {
            "cell_type": "code",
            "execution_count": null,
            "id": "0a798775",
            "metadata": {},
            "outputs": [],
            "source": [
                "#|export\n",
                "@app.command(name='run-core')\n",
                "def cli_run_core(\n",
                "):\n",
                "    \"\"\"\n",
                "    Run all scripts in the `core` submodule in alphanumerical order\n",
                "    \"\"\"\n",
                "    proj.core.run_all()"
            ]
        },
        {
            "cell_type": "markdown",
            "id": "1a932f0b",
            "metadata": {},
            "source": [
                "## `list-config`"
            ]
        },
        {
            "cell_type": "code",
            "execution_count": null,
            "id": "5c589320",
            "metadata": {},
            "outputs": [],
            "source": [
                "#|export\n",
                "@app.command(name='list-config')\n",
                "def cli_list_config(\n",
                "):\n",
                "    \"\"\"\n",
                "    List all config variables.\n",
                "    \"\"\"\n",
                "    from rich.table import Table\n",
                "    from rich.console import Console\n",
                "    from rich.markup import escape\n",
                "    from pydantic import BaseModel\n",
                "\n",
                "    table = Table(title=f\"{proj.__name__} configuration schema\")\n",
                "\n",
                "    table.add_column(\"Config key\", justify=\"left\", style=\"cyan\", no_wrap=True)\n",
                "    table.add_column(\"Type\", justify=\"left\", style=\"magenta\")\n",
                "\n",
                "    def add_fields(field_key_prefix, model_class):\n",
                "        for field_key, field_type in model_class.__annotations__.items():\n",
                "            if issubclass(field_type, BaseModel):\n",
                "                add_fields(field_key, field_type)\n",
                "                continue\n",
                "            _field_key = f'{field_key_prefix}.{field_key}' if field_key_prefix else field_key\n",
                "            table.add_row(escape(_field_key), escape(str(field_type)))\n",
                "\n",
                "    add_fields(\"\", get_config().__class__)\n",
                "\n",
                "    console = Console()\n",
                "    console.print(table)"
            ]
        },
        {
            "cell_type": "code",
            "execution_count": null,
            "id": "8db72b07",
            "metadata": {},
            "outputs": [],
            "source": [
                "#|export\n",
                "@app.command(name='config-path')\n",
                "def cli_config_path(\n",
                "):\n",
                "    \"\"\"\n",
                "    Get the path to the configuration file.\n",
                "    \"\"\"\n",
                "    from repos_to_obsidian_notes.config import config_path\n",
                "    print(config_path)"
            ]
        },
        {
            "cell_type": "code",
            "execution_count": null,
            "id": "0e4975b9",
            "metadata": {},
            "outputs": [
                {
                    "data": {
                        "text/html": [
                            "<pre style=\"white-space:pre;overflow-x:auto;line-height:normal;font-family:Menlo,'DejaVu Sans Mono',consolas,'Courier New',monospace\"><span style=\"font-style: italic\">           magpy configuration schema            </span>\n",
                            "\u250f\u2501\u2501\u2501\u2501\u2501\u2501\u2501\u2501\u2501\u2501\u2501\u2501\u2501\u2501\u2501\u2501\u2501\u2501\u2501\u2501\u2501\u2501\u2533\u2501\u2501\u2501\u2501\u2501\u2501\u2501\u2501\u2501\u2501\u2501\u2501\u2501\u2501\u2501\u2501\u2501\u2501\u2501\u2501\u2501\u2501\u2501\u2501\u2513\n",
                            "\u2503<span style=\"font-weight: bold\"> Config key           </span>\u2503<span style=\"font-weight: bold\"> Type                   </span>\u2503\n",
                            "\u2521\u2501\u2501\u2501\u2501\u2501\u2501\u2501\u2501\u2501\u2501\u2501\u2501\u2501\u2501\u2501\u2501\u2501\u2501\u2501\u2501\u2501\u2501\u2547\u2501\u2501\u2501\u2501\u2501\u2501\u2501\u2501\u2501\u2501\u2501\u2501\u2501\u2501\u2501\u2501\u2501\u2501\u2501\u2501\u2501\u2501\u2501\u2501\u2529\n",
                            "\u2502<span style=\"color: #008080; text-decoration-color: #008080\"> pkg_root_path.parent </span>\u2502<span style=\"color: #800080; text-decoration-color: #800080\"> typing.Optional[str]   </span>\u2502\n",
                            "\u2502<span style=\"color: #008080; text-decoration-color: #008080\"> pkg_root_path.path   </span>\u2502<span style=\"color: #800080; text-decoration-color: #800080\"> &lt;class 'pathlib.Path'&gt; </span>\u2502\n",
                            "\u2502<span style=\"color: #008080; text-decoration-color: #008080\"> store_path.parent    </span>\u2502<span style=\"color: #800080; text-decoration-color: #800080\"> typing.Optional[str]   </span>\u2502\n",
                            "\u2502<span style=\"color: #008080; text-decoration-color: #008080\"> store_path.path      </span>\u2502<span style=\"color: #800080; text-decoration-color: #800080\"> &lt;class 'pathlib.Path'&gt; </span>\u2502\n",
                            "\u2502<span style=\"color: #008080; text-decoration-color: #008080\"> caches_path.parent   </span>\u2502<span style=\"color: #800080; text-decoration-color: #800080\"> typing.Optional[str]   </span>\u2502\n",
                            "\u2502<span style=\"color: #008080; text-decoration-color: #008080\"> caches_path.path     </span>\u2502<span style=\"color: #800080; text-decoration-color: #800080\"> &lt;class 'pathlib.Path'&gt; </span>\u2502\n",
                            "\u2502<span style=\"color: #008080; text-decoration-color: #008080\"> data_path.parent     </span>\u2502<span style=\"color: #800080; text-decoration-color: #800080\"> typing.Optional[str]   </span>\u2502\n",
                            "\u2502<span style=\"color: #008080; text-decoration-color: #008080\"> data_path.path       </span>\u2502<span style=\"color: #800080; text-decoration-color: #800080\"> &lt;class 'pathlib.Path'&gt; </span>\u2502\n",
                            "\u2502<span style=\"color: #008080; text-decoration-color: #008080\"> misc_path.parent     </span>\u2502<span style=\"color: #800080; text-decoration-color: #800080\"> typing.Optional[str]   </span>\u2502\n",
                            "\u2502<span style=\"color: #008080; text-decoration-color: #008080\"> misc_path.path       </span>\u2502<span style=\"color: #800080; text-decoration-color: #800080\"> &lt;class 'pathlib.Path'&gt; </span>\u2502\n",
                            "\u2502<span style=\"color: #008080; text-decoration-color: #008080\"> pre_output.parent    </span>\u2502<span style=\"color: #800080; text-decoration-color: #800080\"> typing.Optional[str]   </span>\u2502\n",
                            "\u2502<span style=\"color: #008080; text-decoration-color: #008080\"> pre_output.path      </span>\u2502<span style=\"color: #800080; text-decoration-color: #800080\"> &lt;class 'pathlib.Path'&gt; </span>\u2502\n",
                            "\u2502<span style=\"color: #008080; text-decoration-color: #008080\"> output_path.parent   </span>\u2502<span style=\"color: #800080; text-decoration-color: #800080\"> typing.Optional[str]   </span>\u2502\n",
                            "\u2502<span style=\"color: #008080; text-decoration-color: #008080\"> output_path.path     </span>\u2502<span style=\"color: #800080; text-decoration-color: #800080\"> &lt;class 'pathlib.Path'&gt; </span>\u2502\n",
                            "\u2514\u2500\u2500\u2500\u2500\u2500\u2500\u2500\u2500\u2500\u2500\u2500\u2500\u2500\u2500\u2500\u2500\u2500\u2500\u2500\u2500\u2500\u2500\u2534\u2500\u2500\u2500\u2500\u2500\u2500\u2500\u2500\u2500\u2500\u2500\u2500\u2500\u2500\u2500\u2500\u2500\u2500\u2500\u2500\u2500\u2500\u2500\u2500\u2518\n",
                            "</pre>\n"
                        ],
                        "text/plain": [
                            "\u001b[3m           magpy configuration schema            \u001b[0m\n",
                            "\u250f\u2501\u2501\u2501\u2501\u2501\u2501\u2501\u2501\u2501\u2501\u2501\u2501\u2501\u2501\u2501\u2501\u2501\u2501\u2501\u2501\u2501\u2501\u2533\u2501\u2501\u2501\u2501\u2501\u2501\u2501\u2501\u2501\u2501\u2501\u2501\u2501\u2501\u2501\u2501\u2501\u2501\u2501\u2501\u2501\u2501\u2501\u2501\u2513\n",
                            "\u2503\u001b[1m \u001b[0m\u001b[1mConfig key          \u001b[0m\u001b[1m \u001b[0m\u2503\u001b[1m \u001b[0m\u001b[1mType                  \u001b[0m\u001b[1m \u001b[0m\u2503\n",
                            "\u2521\u2501\u2501\u2501\u2501\u2501\u2501\u2501\u2501\u2501\u2501\u2501\u2501\u2501\u2501\u2501\u2501\u2501\u2501\u2501\u2501\u2501\u2501\u2547\u2501\u2501\u2501\u2501\u2501\u2501\u2501\u2501\u2501\u2501\u2501\u2501\u2501\u2501\u2501\u2501\u2501\u2501\u2501\u2501\u2501\u2501\u2501\u2501\u2529\n",
                            "\u2502\u001b[36m \u001b[0m\u001b[36mpkg_root_path.parent\u001b[0m\u001b[36m \u001b[0m\u2502\u001b[35m \u001b[0m\u001b[35mtyping.Optional[str]  \u001b[0m\u001b[35m \u001b[0m\u2502\n",
                            "\u2502\u001b[36m \u001b[0m\u001b[36mpkg_root_path.path  \u001b[0m\u001b[36m \u001b[0m\u2502\u001b[35m \u001b[0m\u001b[35m<class 'pathlib.Path'>\u001b[0m\u001b[35m \u001b[0m\u2502\n",
                            "\u2502\u001b[36m \u001b[0m\u001b[36mstore_path.parent   \u001b[0m\u001b[36m \u001b[0m\u2502\u001b[35m \u001b[0m\u001b[35mtyping.Optional[str]  \u001b[0m\u001b[35m \u001b[0m\u2502\n",
                            "\u2502\u001b[36m \u001b[0m\u001b[36mstore_path.path     \u001b[0m\u001b[36m \u001b[0m\u2502\u001b[35m \u001b[0m\u001b[35m<class 'pathlib.Path'>\u001b[0m\u001b[35m \u001b[0m\u2502\n",
                            "\u2502\u001b[36m \u001b[0m\u001b[36mcaches_path.parent  \u001b[0m\u001b[36m \u001b[0m\u2502\u001b[35m \u001b[0m\u001b[35mtyping.Optional[str]  \u001b[0m\u001b[35m \u001b[0m\u2502\n",
                            "\u2502\u001b[36m \u001b[0m\u001b[36mcaches_path.path    \u001b[0m\u001b[36m \u001b[0m\u2502\u001b[35m \u001b[0m\u001b[35m<class 'pathlib.Path'>\u001b[0m\u001b[35m \u001b[0m\u2502\n",
                            "\u2502\u001b[36m \u001b[0m\u001b[36mdata_path.parent    \u001b[0m\u001b[36m \u001b[0m\u2502\u001b[35m \u001b[0m\u001b[35mtyping.Optional[str]  \u001b[0m\u001b[35m \u001b[0m\u2502\n",
                            "\u2502\u001b[36m \u001b[0m\u001b[36mdata_path.path      \u001b[0m\u001b[36m \u001b[0m\u2502\u001b[35m \u001b[0m\u001b[35m<class 'pathlib.Path'>\u001b[0m\u001b[35m \u001b[0m\u2502\n",
                            "\u2502\u001b[36m \u001b[0m\u001b[36mmisc_path.parent    \u001b[0m\u001b[36m \u001b[0m\u2502\u001b[35m \u001b[0m\u001b[35mtyping.Optional[str]  \u001b[0m\u001b[35m \u001b[0m\u2502\n",
                            "\u2502\u001b[36m \u001b[0m\u001b[36mmisc_path.path      \u001b[0m\u001b[36m \u001b[0m\u2502\u001b[35m \u001b[0m\u001b[35m<class 'pathlib.Path'>\u001b[0m\u001b[35m \u001b[0m\u2502\n",
                            "\u2502\u001b[36m \u001b[0m\u001b[36mpre_output.parent   \u001b[0m\u001b[36m \u001b[0m\u2502\u001b[35m \u001b[0m\u001b[35mtyping.Optional[str]  \u001b[0m\u001b[35m \u001b[0m\u2502\n",
                            "\u2502\u001b[36m \u001b[0m\u001b[36mpre_output.path     \u001b[0m\u001b[36m \u001b[0m\u2502\u001b[35m \u001b[0m\u001b[35m<class 'pathlib.Path'>\u001b[0m\u001b[35m \u001b[0m\u2502\n",
                            "\u2502\u001b[36m \u001b[0m\u001b[36moutput_path.parent  \u001b[0m\u001b[36m \u001b[0m\u2502\u001b[35m \u001b[0m\u001b[35mtyping.Optional[str]  \u001b[0m\u001b[35m \u001b[0m\u2502\n",
                            "\u2502\u001b[36m \u001b[0m\u001b[36moutput_path.path    \u001b[0m\u001b[36m \u001b[0m\u2502\u001b[35m \u001b[0m\u001b[35m<class 'pathlib.Path'>\u001b[0m\u001b[35m \u001b[0m\u2502\n",
                            "\u2514\u2500\u2500\u2500\u2500\u2500\u2500\u2500\u2500\u2500\u2500\u2500\u2500\u2500\u2500\u2500\u2500\u2500\u2500\u2500\u2500\u2500\u2500\u2534\u2500\u2500\u2500\u2500\u2500\u2500\u2500\u2500\u2500\u2500\u2500\u2500\u2500\u2500\u2500\u2500\u2500\u2500\u2500\u2500\u2500\u2500\u2500\u2500\u2518\n"
                        ]
                    },
                    "metadata": {},
                    "output_type": "display_data"
                }
            ],
            "source": [
                "cli_list_config()"
            ]
        },
        {
            "cell_type": "markdown",
            "id": "bb3f76a4",
            "metadata": {},
            "source": [
                "## `a-sub-command`\n",
                "\n",
                "Uncomment the following cell to add a subcommand to the CLI."
            ]
        },
        {
            "cell_type": "code",
            "execution_count": null,
            "id": "2a736f02",
            "metadata": {},
            "outputs": [],
            "source": [
                "#|export\n",
                "# @app.command(name='a-sub-command')\n",
                "# def cli_a_sub_command(\n",
                "#     postional_arg: Annotated[Union[List[str], None], Argument(help=\"This will be displayed in the help message.\")] = None,\n",
                "#     optional_arg: Annotated[Union[str,None], Option(\"-r\", \"--root\", help=\"This is an optional argument.\")] = None,\n",
                "# ):\n",
                "#     \"\"\"\n",
                "#     This is a subcommand. This text will be displayed in the help message.\n",
                "#     \"\"\"\n",
                "#     print(\"Hello from a subcommand.\")"
            ]
        }
    ],
    "metadata": {
        "jupytext": {
            "cell_metadata_filter": "-all",
            "main_language": "python",
            "notebook_metadata_filter": "-all"
        },
        "language_info": {
            "codemirror_mode": {
                "name": "ipython",
                "version": 3
            },
            "file_extension": ".py",
            "mimetype": "text/x-python",
            "name": "python",
            "nbconvert_exporter": "python",
            "pygments_lexer": "ipython3",
            "version": "3.11.11"
        },
        "nblite_source_hash": "846c8faaad2d2a4ee3ee0bbf621df0e43566736e3ea3a34f5f5fd0805c9dea9e"
    },
    "nbformat": 4,
    "nbformat_minor": 5
}
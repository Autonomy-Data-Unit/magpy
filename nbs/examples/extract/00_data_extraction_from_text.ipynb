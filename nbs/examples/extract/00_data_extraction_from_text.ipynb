{
    "cells": [
        {
            "cell_type": "code",
            "execution_count": null,
            "id": "9bfed297",
            "metadata": {},
            "outputs": [],
            "source": [
                "from magpy import *\n",
                "import os\n",
                "from datetime import datetime"
            ]
        },
        {
            "cell_type": "markdown",
            "id": "4bf1a433",
            "metadata": {},
            "source": [
                "Configure the LLM"
            ]
        },
        {
            "cell_type": "code",
            "execution_count": null,
            "id": "c9c077ae",
            "metadata": {},
            "outputs": [],
            "source": [
                "set_magpy_config(\n",
                "    api_key=os.getenv(\"OPENAI_API_KEY\"), \n",
                "    model_name=\"gpt-4o\",    \n",
                "    temperature=0.1,\n",
                "    cache_path='.cache'\n",
                ")"
            ]
        },
        {
            "cell_type": "markdown",
            "id": "6e5efadb",
            "metadata": {},
            "source": [
                "Simple example of extracting data from unstructured text. You specify a `schema` that contains the names of each field you want to extract and its type."
            ]
        },
        {
            "cell_type": "code",
            "execution_count": null,
            "id": "77954aca",
            "metadata": {},
            "outputs": [
                {
                    "data": {
                        "text/plain": [
                            "{'Donor Name': 'John Doe',\n",
                            " 'Donation Amount': 5000,\n",
                            " 'Date': datetime.datetime(2024, 1, 10, 0, 0, tzinfo=TzInfo(UTC)),\n",
                            " 'Campaign Recipient': 'Senator Smith',\n",
                            " 'Donation Type': 'individual contribution'}"
                        ]
                    },
                    "execution_count": null,
                    "metadata": {},
                    "output_type": "execute_result"
                }
            ],
            "source": [
                "unstructured_text = \"\"\"\n",
                "As part of our ongoing review of political contributions, we have identified the following key donations:\n",
                "On or around January 10, 2024, John Doe contributed $5,000 to the re-election campaign of Senator Smith.\n",
                "This donation has been classified as an individual contribution.\n",
                "Subsequently, on February 15, 2024, Jane Roe provided a donation of $10,000 to Governor Clark's campaign.\n",
                "It is important to note that this contribution was made through a corporate entity.\n",
                "Additionally, on March 5, 2024, Acme Corporation made a significant contribution in the amount of $50,000\n",
                "to the Political Action Committee (PAC) associated with Mayor Johnson.\n",
                "\"\"\"\n",
                "\n",
                "schema = {\n",
                "    \"Donor Name\": str,\n",
                "    \"Donation Amount\": int,\n",
                "    \"Date\": datetime,\n",
                "    \"Campaign Recipient\": str,\n",
                "    \"Donation Type\": str\n",
                "}\n",
                "\n",
                "extract_structured(\n",
                "    text=unstructured_text,\n",
                "    schema=schema,\n",
                ")"
            ]
        },
        {
            "cell_type": "markdown",
            "id": "707aa95a",
            "metadata": {},
            "source": [
                "Since we've configured *magpy* to cache all LLM calls, running `extract_structured` on the same text again with the same schema will simply retrieve the same result as before instantly. This is both to ensure replicability, but also to save costs."
            ]
        },
        {
            "cell_type": "code",
            "execution_count": null,
            "id": "9fc3e216",
            "metadata": {},
            "outputs": [
                {
                    "data": {
                        "text/plain": [
                            "{'Donor Name': 'John Doe',\n",
                            " 'Donation Amount': 5000,\n",
                            " 'Date': datetime.datetime(2024, 1, 10, 0, 0, tzinfo=TzInfo(UTC)),\n",
                            " 'Campaign Recipient': 'Senator Smith',\n",
                            " 'Donation Type': 'individual contribution'}"
                        ]
                    },
                    "execution_count": null,
                    "metadata": {},
                    "output_type": "execute_result"
                }
            ],
            "source": [
                "extract_structured(\n",
                "    text=unstructured_text,\n",
                "    schema=schema,\n",
                ")"
            ]
        },
        {
            "cell_type": "markdown",
            "id": "2b334c0d",
            "metadata": {},
            "source": [
                "You can use `magpy.extract.Field` to specify additional descriptions of the fields."
            ]
        },
        {
            "cell_type": "code",
            "execution_count": null,
            "id": "aeedd5e8",
            "metadata": {},
            "outputs": [
                {
                    "data": {
                        "text/plain": [
                            "{'Donor Name': 'John Doe',\n",
                            " 'Donation Amount': 5000,\n",
                            " 'Date': datetime.datetime(2024, 1, 10, 0, 0, tzinfo=TzInfo(UTC)),\n",
                            " 'Campaign Recipient': 'Senator Smith',\n",
                            " 'Donation Type': 'individual contribution'}"
                        ]
                    },
                    "execution_count": null,
                    "metadata": {},
                    "output_type": "execute_result"
                }
            ],
            "source": [
                "schema = {\n",
                "    \"Donor Name\": Field(str, desc=\"The name of the donor\"),\n",
                "    \"Donation Amount\": Field(int, desc=\"The amount of the donation\"),\n",
                "    \"Date\": Field(datetime, desc=\"The date of the donation\"),\n",
                "    \"Campaign Recipient\": Field(str, desc=\"The recipient of the donation\"),\n",
                "    \"Donation Type\": Field(str, desc=\"The type of the donation\")\n",
                "}\n",
                "\n",
                "extract_structured(\n",
                "    text=unstructured_text,\n",
                "    schema=schema,\n",
                ")"
            ]
        },
        {
            "cell_type": "markdown",
            "id": "6ae833cd",
            "metadata": {},
            "source": [
                "You can specify that a field is optional, if it's not entirely certain that the unstructured data contains the relevant information."
            ]
        },
        {
            "cell_type": "code",
            "execution_count": null,
            "id": "328dbb72",
            "metadata": {},
            "outputs": [
                {
                    "data": {
                        "text/plain": [
                            "{'Donor Name': 'John Doe',\n",
                            " 'Donor Address': None,\n",
                            " 'Donation Amount': 5000,\n",
                            " 'Date': datetime.datetime(2024, 1, 10, 0, 0, tzinfo=TzInfo(UTC)),\n",
                            " 'Campaign Recipient': 'Senator Smith',\n",
                            " 'Donation Type': 'individual contribution'}"
                        ]
                    },
                    "execution_count": null,
                    "metadata": {},
                    "output_type": "execute_result"
                }
            ],
            "source": [
                "schema = {\n",
                "    \"Donor Name\": Field(str, desc=\"The name of the donor\"),\n",
                "    \"Donor Address\": Field(str, desc=\"The address of the donor\", optional=True),\n",
                "    \"Donation Amount\": Field(int, desc=\"The amount of the donation\"),\n",
                "    \"Date\": Field(datetime, desc=\"The date of the donation\"),\n",
                "    \"Campaign Recipient\": Field(str, desc=\"The recipient of the donation\"),\n",
                "    \"Donation Type\": Field(str, desc=\"The type of the donation\"),\n",
                "}\n",
                "\n",
                "extract_structured(\n",
                "    text=unstructured_text,\n",
                "    schema=schema,\n",
                ")"
            ]
        },
        {
            "cell_type": "markdown",
            "id": "14b97fbe",
            "metadata": {},
            "source": [
                "You can nest the schema for more flexible JSON-like data."
            ]
        },
        {
            "cell_type": "code",
            "execution_count": null,
            "id": "4b1bd557",
            "metadata": {},
            "outputs": [
                {
                    "data": {
                        "text/plain": [
                            "{'Donor': {'Name': 'John Doe', 'Type': 'individual'},\n",
                            " 'Recipient': {'Name': 'Senator Smith', 'Type': 'campaign'},\n",
                            " 'Donation Amount': 5000,\n",
                            " 'Date': datetime.datetime(2024, 1, 10, 0, 0, tzinfo=TzInfo(UTC)),\n",
                            " 'Donation Type': 'individual contribution'}"
                        ]
                    },
                    "execution_count": null,
                    "metadata": {},
                    "output_type": "execute_result"
                }
            ],
            "source": [
                "schema = {\n",
                "    \"Donor\": Field({\n",
                "        \"Name\": Field(str, desc=\"The name of the donor\"),\n",
                "        \"Type\": Field(str, desc=\"The type of the donor (e.g. company, individual, PAC, etc.)\")\n",
                "    }, desc=\"The donor of the donation\"),\n",
                "    \"Recipient\": Field({\n",
                "        \"Name\": Field(str, desc=\"The name of the recipient\"),\n",
                "        \"Type\": Field(str, desc=\"The type of the recipient (e.g. company, individual, PAC, etc.)\")\n",
                "    }, desc=\"The recipient of the donation\"),\n",
                "    \"Donation Amount\": Field(int, desc=\"The amount of the donation\"),\n",
                "    \"Date\": Field(datetime, desc=\"The date of the donation\"),\n",
                "    \"Donation Type\": Field(str, desc=\"The type of the donation\")\n",
                "}\n",
                "\n",
                "extract_structured(\n",
                "    text=unstructured_text,\n",
                "    schema=schema,\n",
                ")\n",
                "# Returns a dictionary of the structured data"
            ]
        },
        {
            "cell_type": "markdown",
            "id": "ee7fef63",
            "metadata": {},
            "source": [
                "You can extract date from multiple texts using the `extract_structured(texts=...)` argument."
            ]
        },
        {
            "cell_type": "code",
            "execution_count": null,
            "id": "3057521c",
            "metadata": {},
            "outputs": [
                {
                    "data": {
                        "text/plain": [
                            "[{'Donor': {'Name': 'John Doe', 'Type': 'individual'},\n",
                            "  'Recipient': {'Name': 'Senator Smith', 'Type': 'campaign'},\n",
                            "  'Donation Amount': 5000,\n",
                            "  'Date': datetime.datetime(2024, 1, 10, 0, 0, tzinfo=TzInfo(UTC)),\n",
                            "  'Donation Type': 'individual contribution'},\n",
                            " {'Donor': {'Name': 'John Doe', 'Type': 'individual'},\n",
                            "  'Recipient': {'Name': 'Senator Smith', 'Type': 'campaign'},\n",
                            "  'Donation Amount': 5000,\n",
                            "  'Date': datetime.datetime(2024, 1, 10, 0, 0, tzinfo=TzInfo(UTC)),\n",
                            "  'Donation Type': 'individual contribution'},\n",
                            " {'Donor': {'Name': 'Emily White', 'Type': 'individual'},\n",
                            "  'Recipient': {'Name': 'Congressman Lee', 'Type': 'campaign'},\n",
                            "  'Donation Amount': 2500,\n",
                            "  'Date': datetime.datetime(2024, 3, 20, 0, 0, tzinfo=TzInfo(UTC)),\n",
                            "  'Donation Type': 'individual contribution'}]"
                        ]
                    },
                    "execution_count": null,
                    "metadata": {},
                    "output_type": "execute_result"
                }
            ],
            "source": [
                "unstructured_texts = [\n",
                "    \"\"\"\n",
                "    As part of our ongoing review of political contributions, we have identified the following key donations:\n",
                "    On or around January 10, 2024, John Doe contributed $5,000 to the re-election campaign of Senator Smith.\n",
                "    This donation has been classified as an individual contribution.\n",
                "    Subsequently, on February 15, 2024, Jane Roe provided a donation of $10,000 to Governor Clark's campaign.\n",
                "    It is important to note that this contribution was made through a corporate entity.\n",
                "    Additionally, on March 5, 2024, Acme Corporation made a significant contribution in the amount of $50,000\n",
                "    to the Political Action Committee (PAC) associated with Mayor Johnson.\n",
                "    \"\"\",\n",
                "    \n",
                "    \"\"\"\n",
                "    The following donations were identified as part of our ongoing review:\n",
                "    On or around January 10, 2024, John Doe contributed $5,000 to the re-election campaign of Senator Smith.\n",
                "    This donation has been classified as an individual contribution.\n",
                "    Subsequently, on February 15, 2024, Jane Roe provided a donation of $10,000 to Governor Clark's campaign.\n",
                "    It is important to note that this contribution was made through a corporate entity.\n",
                "    Additionally, on March 5, 2024, Acme Corporation made a significant contribution in the amount of $50,000\n",
                "    to the Political Action Committee (PAC) associated with Mayor Johnson.\n",
                "    \"\"\",\n",
                "    \n",
                "    \"\"\"\n",
                "    In our recent analysis of political donations, we have documented the following contributions:\n",
                "    On March 20, 2024, Emily White donated $2,500 to the campaign of Congressman Lee.\n",
                "    This donation is categorized as an individual contribution.\n",
                "    Furthermore, on April 10, 2024, Global Enterprises contributed $20,000 to the Senate campaign of Candidate Brown.\n",
                "    This contribution was made through a corporate entity.\n",
                "    Lastly, on May 1, 2024, the Community Fund donated $15,000 to the Political Action Committee (PAC) supporting Councilwoman Green.\n",
                "    \"\"\"\n",
                "]\n",
                "\n",
                "extract_structured(\n",
                "    texts=unstructured_texts,\n",
                "    schema=schema,\n",
                ")"
            ]
        }
    ],
    "metadata": {
        "jupytext": {
            "cell_metadata_filter": "-all",
            "main_language": "python",
            "notebook_metadata_filter": "-all"
        },
        "kernelspec": {
            "display_name": ".venv",
            "language": "python",
            "name": "python3"
        },
        "language_info": {
            "codemirror_mode": {
                "name": "ipython",
                "version": 3
            },
            "file_extension": ".py",
            "mimetype": "text/x-python",
            "name": "python",
            "nbconvert_exporter": "python",
            "pygments_lexer": "ipython3",
            "version": "3.11.11"
        },
        "nblite_source_hash": "645aad4a30406f6dde974f0165ec07d07d1301b4e79344695b54cca8c6a36cd8"
    },
    "nbformat": 4,
    "nbformat_minor": 5
}
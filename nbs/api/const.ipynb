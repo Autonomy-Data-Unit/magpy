{
    "cells": [
        {
            "cell_type": "markdown",
            "id": "41fdc9c4",
            "metadata": {},
            "source": [
                "# const"
            ]
        },
        {
            "cell_type": "code",
            "execution_count": null,
            "id": "c4466ecc",
            "metadata": {},
            "outputs": [],
            "source": [
                "#|default_exp const"
            ]
        },
        {
            "cell_type": "code",
            "execution_count": null,
            "id": "7b4baf3e",
            "metadata": {},
            "outputs": [],
            "source": [
                "#|hide\n",
                "import nblite; from nbdev.showdoc import show_doc; nblite.nbl_export()"
            ]
        },
        {
            "cell_type": "code",
            "execution_count": null,
            "id": "a8646d59",
            "metadata": {},
            "outputs": [],
            "source": [
                "#|export\n",
                "from pathlib import Path\n",
                "import toml\n",
                "from typing import Optional\n",
                "from pydantic import BaseModel, ConfigDict, model_validator\n",
                "from pathlib import Path\n",
                "from importlib import resources\n",
                "import adulib, adulib.llm\n",
                "from dotenv import load_dotenv\n",
                "import magpy as proj"
            ]
        },
        {
            "cell_type": "markdown",
            "id": "13cd1a37",
            "metadata": {},
            "source": [
                "Set up paths"
            ]
        },
        {
            "cell_type": "code",
            "execution_count": null,
            "id": "018b12be",
            "metadata": {},
            "outputs": [],
            "source": [
                "#|export\n",
                "scripts_path = resources.files(f'{proj.__name__}').joinpath('scripts').resolve()\n",
                "assets_path = resources.files(f'{proj.__name__}').joinpath('assets').resolve()"
            ]
        }
    ],
    "metadata": {
        "jupytext": {
            "cell_metadata_filter": "-all",
            "main_language": "python",
            "notebook_metadata_filter": "-all"
        },
        "kernelspec": {
            "display_name": ".venv",
            "language": "python",
            "name": "python3"
        },
        "language_info": {
            "codemirror_mode": {
                "name": "ipython",
                "version": 3
            },
            "file_extension": ".py",
            "mimetype": "text/x-python",
            "name": "python",
            "nbconvert_exporter": "python",
            "pygments_lexer": "ipython3",
            "version": "3.11.11"
        },
        "nblite_source_hash": "469cfab15af551744bdfd8149ef724f00ce97ef3a2701210140ede663281e101"
    },
    "nbformat": 4,
    "nbformat_minor": 5
}
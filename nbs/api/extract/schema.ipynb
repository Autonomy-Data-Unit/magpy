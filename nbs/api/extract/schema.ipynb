{
    "cells": [
        {
            "cell_type": "markdown",
            "id": "f3ea1a3a",
            "metadata": {},
            "source": [
                "# schema"
            ]
        },
        {
            "cell_type": "code",
            "execution_count": null,
            "id": "9e99be70",
            "metadata": {},
            "outputs": [],
            "source": [
                "#|default_exp extract.schema"
            ]
        },
        {
            "cell_type": "code",
            "execution_count": null,
            "id": "de2889ea",
            "metadata": {},
            "outputs": [],
            "source": [
                "#|hide\n",
                "import nblite; from nbdev.showdoc import show_doc; nblite.nbl_export()"
            ]
        },
        {
            "cell_type": "code",
            "execution_count": null,
            "id": "6f357d4a",
            "metadata": {},
            "outputs": [],
            "source": [
                "#|export\n",
                "from typing import Union, Dict, Any, Type, get_args, get_origin, List, Optional\n",
                "from datetime import datetime\n",
                "import pydantic\n",
                "import json\n",
                "from pydantic import BaseModel, Field as PydanticField, create_model"
            ]
        },
        {
            "cell_type": "code",
            "execution_count": null,
            "id": "79fadc08",
            "metadata": {},
            "outputs": [],
            "source": [
                "#|export\n",
                "class Field:\n",
                "    \"\"\"Schema field definition with type enforcement, descriptions, and optional fields.\"\"\"\n",
                "    \n",
                "    def __init__(\n",
                "        self, \n",
                "        field_type: Any,\n",
                "        desc: Optional[str] = None, \n",
                "        optional: bool = False\n",
                "    ):\n",
                "        self.field_type = field_type\n",
                "        self.desc = desc\n",
                "        self.optional = optional"
            ]
        },
        {
            "cell_type": "code",
            "execution_count": null,
            "id": "69a46188",
            "metadata": {},
            "outputs": [],
            "source": [
                "#|exporti\n",
                "def _convert_field_to_type(field: Field) -> tuple:\n",
                "    \"\"\"\n",
                "    Converts a custom Field into a (type_annotation, FieldInfo) tuple for Pydantic\n",
                "    \"\"\"\n",
                "    desc = field.desc or \"\"\n",
                "    annotation = _parse_type(field.field_type)\n",
                "    if field.optional:\n",
                "        annotation = Optional[annotation]\n",
                "    return (annotation, PydanticField(... if not field.optional else None, description=desc))\n",
                "\n",
                "def _parse_type(field_type: Union[Type, Dict, list, tuple]) -> Any:\n",
                "    \"\"\"\n",
                "    Recursively resolve field_type to proper typing annotations for Pydantic\n",
                "    \"\"\"\n",
                "    if isinstance(field_type, dict):\n",
                "        # Nested object -> create a dynamic Pydantic model\n",
                "        return _create_dynamic_model(field_type)\n",
                "    \n",
                "    origin = get_origin(field_type)\n",
                "    if origin is list or origin is List:\n",
                "        (item_type,) = get_args(field_type)\n",
                "        return List[_parse_type(item_type)]\n",
                "    \n",
                "    return field_type  # e.g., str, int, datetime\n",
                "\n",
                "def _create_dynamic_model(schema_dict: Dict[str, Field], model_name: str = \"ResponseModel\") -> Type[BaseModel]:\n",
                "    \"\"\"\n",
                "    Create a Pydantic model from a dictionary of Field instances\n",
                "    \"\"\"\n",
                "    fields = {}\n",
                "    for field_name, field_def in schema_dict.items():\n",
                "        if not isinstance(field_def, Field): # if the field is not a Field, then we presume it is a type\n",
                "            field_def = Field(field_def)\n",
                "        fields[field_name] = _convert_field_to_type(field_def)\n",
                "\n",
                "    model = create_model(model_name, **fields)\n",
                "    \n",
                "    # Monkey-patch __config__ to disable additional properties\n",
                "    class Config:\n",
                "        extra = \"forbid\"\n",
                "    model.__config__ = Config\n",
                "    return model"
            ]
        },
        {
            "cell_type": "code",
            "execution_count": null,
            "id": "75943981",
            "metadata": {},
            "outputs": [],
            "source": [
                "#|exporti\n",
                "from openai.types.chat.completion_create_params import ResponseFormat as OpenAIResponseFormatParam\n",
                "\n",
                "def _pydantic_to_response_format_param(\n",
                "    model: Type[pydantic.BaseModel] | Type[Any]\n",
                ") -> OpenAIResponseFormatParam:\n",
                "    \"\"\"\n",
                "    Convert a Pydantic model to OpenAI's response_format parameter.\n",
                "    \n",
                "    This function returns the complete response_format parameter structure\n",
                "    that can be passed directly to the OpenAI API.\n",
                "    \n",
                "    Args:\n",
                "        model: A Pydantic model class (BaseModel or dataclass-like)\n",
                "        \n",
                "    Returns:\n",
                "        OpenAIResponseFormatParam: The complete response_format parameter\n",
                "        \n",
                "    Raises:\n",
                "        TypeError: If the model type is not supported\n",
                "    \"\"\"\n",
                "    from openai.lib._parsing import type_to_response_format_param\n",
                "    from openai._types import NOT_GIVEN\n",
                "    \n",
                "    response_format = type_to_response_format_param(model)\n",
                "    \n",
                "    if response_format is NOT_GIVEN:\n",
                "        raise TypeError(f\"Could not convert model {model} to response format\")\n",
                "    \n",
                "    return response_format"
            ]
        },
        {
            "cell_type": "code",
            "execution_count": null,
            "id": "de44758f",
            "metadata": {},
            "outputs": [
                {
                    "data": {
                        "text/plain": [
                            "ResponseModel(Donor=ResponseModel(Name='John Doe', Type='individual'), Recipient=ResponseModel(Name='Senator Smith', Type='individual'), Donation Amount=5000, Date=datetime.datetime(2024, 1, 10, 0, 0, tzinfo=TzInfo(UTC)), Donation Type='individual contribution')"
                        ]
                    },
                    "execution_count": null,
                    "metadata": {},
                    "output_type": "execute_result"
                }
            ],
            "source": [
                "#|hide\n",
                "schema = {\n",
                "    \"Donor\": Field({\n",
                "        \"Name\": Field(str, desc=\"The name of the donor\"),\n",
                "        \"Type\": Field(str, desc=\"The type of the donor (e.g. company, individual, PAC, etc.)\")\n",
                "    }, desc=\"The donor of the donation\"),\n",
                "    \"Recipient\": Field({\n",
                "        \"Name\": Field(str, desc=\"The name of the recipient\"),\n",
                "        \"Type\": Field(str, desc=\"The type of the recipient (e.g. company, individual, PAC, etc.)\")\n",
                "    }, desc=\"The recipient of the donation\"),\n",
                "    \"Donation Amount\": Field(int, desc=\"The amount of the donation\"),\n",
                "    \"Date\": Field(datetime, desc=\"The date of the donation\"),\n",
                "    \"Donation Type\": Field(str, desc=\"The type of the donation\")\n",
                "}\n",
                "\n",
                "dynamic_model = _create_dynamic_model(schema)\n",
                "openai_response_format = _pydantic_to_response_format_param(dynamic_model)\n",
                "\n",
                "import adulib.llm\n",
                "from adulib.caching import set_default_cache_path\n",
                "\n",
                "prompt = \"\"\"\n",
                "As part of our ongoing review of political contributions, we have identified the following key donations:\n",
                "On or around January 10, 2024, John Doe contributed $5,000 to the re-election campaign of Senator Smith.\n",
                "This donation has been classified as an individual contribution.\n",
                "Subsequently, on February 15, 2024, Jane Roe provided a donation of $10,000 to Governor Clark's campaign.\n",
                "It is important to note that this contribution was made through a corporate entity.\n",
                "Additionally, on March 5, 2024, Acme Corporation made a significant contribution in the amount of $50,000\n",
                "to the Political Action Committee (PAC) associated with Mayor Johnson.\n",
                "\"\"\"\n",
                "\n",
                "set_default_cache_path(\".cache\")\n",
                "res = adulib.llm.single(\n",
                "    prompt=prompt,\n",
                "    response_format=openai_response_format,\n",
                "    model=\"gpt-4o-mini\"\n",
                ")\n",
                "\n",
                "dynamic_model.model_validate(json.loads(res))"
            ]
        }
    ],
    "metadata": {
        "jupytext": {
            "cell_metadata_filter": "-all",
            "main_language": "python",
            "notebook_metadata_filter": "-all"
        },
        "kernelspec": {
            "display_name": ".venv",
            "language": "python",
            "name": "python3"
        },
        "language_info": {
            "codemirror_mode": {
                "name": "ipython",
                "version": 3
            },
            "file_extension": ".py",
            "mimetype": "text/x-python",
            "name": "python",
            "nbconvert_exporter": "python",
            "pygments_lexer": "ipython3",
            "version": "3.11.11"
        },
        "nblite_source_hash": "ca515d267e6081ce221509e04662d13dca2c5d55f9e23e3574857bfe7667c0e4"
    },
    "nbformat": 4,
    "nbformat_minor": 5
}
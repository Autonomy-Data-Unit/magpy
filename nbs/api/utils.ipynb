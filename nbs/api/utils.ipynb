{
    "cells": [
        {
            "cell_type": "markdown",
            "id": "d36e2395",
            "metadata": {},
            "source": [
                "# utils"
            ]
        },
        {
            "cell_type": "code",
            "execution_count": null,
            "id": "ede5b100",
            "metadata": {},
            "outputs": [],
            "source": [
                "#|default_exp utils"
            ]
        },
        {
            "cell_type": "code",
            "execution_count": null,
            "id": "84832e66",
            "metadata": {},
            "outputs": [],
            "source": [
                "#|hide\n",
                "import nblite; from nbdev.showdoc import show_doc; nblite.nbl_export()"
            ]
        },
        {
            "cell_type": "code",
            "execution_count": null,
            "id": "c14464e9",
            "metadata": {},
            "outputs": [],
            "source": [
                "#|export\n",
                "import magpy as proj\n",
                "from magpy import const"
            ]
        },
        {
            "cell_type": "code",
            "execution_count": null,
            "id": "16ce3c79",
            "metadata": {},
            "outputs": [],
            "source": [
                "import magpy.utils as this_module"
            ]
        },
        {
            "cell_type": "code",
            "execution_count": null,
            "id": "69b3ddab",
            "metadata": {},
            "outputs": [
                {
                    "data": {
                        "text/markdown": [
                            "---\n",
                            "\n",
                            "### foo\n",
                            "\n",
                            ">      foo ()"
                        ],
                        "text/plain": [
                            "---\n",
                            "\n",
                            "### foo\n",
                            "\n",
                            ">      foo ()"
                        ]
                    },
                    "execution_count": null,
                    "metadata": {},
                    "output_type": "execute_result"
                }
            ],
            "source": [
                "show_doc(this_module.foo)"
            ]
        },
        {
            "cell_type": "code",
            "execution_count": null,
            "id": "8eb4ae11",
            "metadata": {},
            "outputs": [],
            "source": [
                "#|export\n",
                "def foo():\n",
                "    print(\"Hello\")"
            ]
        }
    ],
    "metadata": {
        "jupytext": {
            "cell_metadata_filter": "-all",
            "main_language": "python",
            "notebook_metadata_filter": "-all"
        },
        "language_info": {
            "codemirror_mode": {
                "name": "ipython",
                "version": 3
            },
            "file_extension": ".py",
            "mimetype": "text/x-python",
            "name": "python",
            "nbconvert_exporter": "python",
            "pygments_lexer": "ipython3",
            "version": "3.11.11"
        },
        "nblite_source_hash": "0f3828a84e6e185eed53a555897a7ab752f736866bbd80432bb20f5f12b85e3e"
    },
    "nbformat": 4,
    "nbformat_minor": 5
}
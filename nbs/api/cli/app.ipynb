{
    "cells": [
        {
            "cell_type": "markdown",
            "id": "ad1325d3",
            "metadata": {},
            "source": [
                "# app"
            ]
        },
        {
            "cell_type": "code",
            "execution_count": null,
            "id": "75382285",
            "metadata": {},
            "outputs": [],
            "source": [
                "#|default_exp cli.app"
            ]
        },
        {
            "cell_type": "code",
            "execution_count": null,
            "id": "2756a0ea",
            "metadata": {},
            "outputs": [
                {
                    "name": "stderr",
                    "output_type": "stream",
                    "text": [
                        "/Users/lukastk/dev/2025-06-16_00__magpy/.venv/lib/python3.11/site-packages/nbdev/doclinks.py:20: UserWarning: pkg_resources is deprecated as an API. See https://setuptools.pypa.io/en/latest/pkg_resources.html. The pkg_resources package is slated for removal as early as 2025-11-30. Refrain from using this package or pin to Setuptools<81.\n",
                        "  import pkg_resources,importlib\n"
                    ]
                }
            ],
            "source": [
                "#|hide\n",
                "import nblite; from nbdev.showdoc import show_doc; nblite.nbl_export()"
            ]
        },
        {
            "cell_type": "code",
            "execution_count": null,
            "id": "bc53d7a9",
            "metadata": {},
            "outputs": [],
            "source": [
                "#|export\n",
                "import typer"
            ]
        },
        {
            "cell_type": "code",
            "execution_count": null,
            "id": "507c205a",
            "metadata": {},
            "outputs": [],
            "source": [
                "#|export\n",
                "app = typer.Typer(invoke_without_command=True)"
            ]
        }
    ],
    "metadata": {
        "jupytext": {
            "cell_metadata_filter": "-all",
            "main_language": "python",
            "notebook_metadata_filter": "-all"
        },
        "language_info": {
            "codemirror_mode": {
                "name": "ipython",
                "version": 3
            },
            "file_extension": ".py",
            "mimetype": "text/x-python",
            "name": "python",
            "nbconvert_exporter": "python",
            "pygments_lexer": "ipython3",
            "version": "3.11.11"
        },
        "nblite_source_hash": "633ab6e1d47176c8dc2d5b495787950edf63fbe177df5bd35ebcdd812dffdf07"
    },
    "nbformat": 4,
    "nbformat_minor": 5
}
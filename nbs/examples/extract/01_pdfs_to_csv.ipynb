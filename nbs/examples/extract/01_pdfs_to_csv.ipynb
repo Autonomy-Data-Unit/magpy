{
    "cells": [
        {
            "cell_type": "code",
            "execution_count": null,
            "id": "7a02f058",
            "metadata": {},
            "outputs": [],
            "source": [
                "from magpy import *\n",
                "import os\n",
                "from datetime import datetime"
            ]
        },
        {
            "cell_type": "markdown",
            "id": "eab8c2bc",
            "metadata": {},
            "source": [
                "Configure the LLM"
            ]
        },
        {
            "cell_type": "code",
            "execution_count": null,
            "id": "d879e813",
            "metadata": {},
            "outputs": [],
            "source": [
                "set_magpy_config(\n",
                "    api_key=os.getenv(\"OPENAI_API_KEY\"), \n",
                "    model_name=\"gpt-4o\",    \n",
                "    temperature=0.1,         \n",
                "    cache_path='.cache'\n",
                ")"
            ]
        },
        {
            "cell_type": "markdown",
            "id": "5d5faaff",
            "metadata": {},
            "source": [
                "Here we will extract data from annual accounts of UK charities. We'll use the below schema:"
            ]
        },
        {
            "cell_type": "code",
            "execution_count": null,
            "id": "afe6ffd7",
            "metadata": {},
            "outputs": [],
            "source": [
                "schema = {\n",
                "    \"Charity Details\": Field({\n",
                "        \"Name\": Field(str, desc=\"The name of the charity\", optional=True),\n",
                "        \"Charity Number\": Field(str, desc=\"The registered charity number\", optional=True),\n",
                "        \"Year End\": Field(datetime, desc=\"The financial year end date\", optional=True),\n",
                "    }, desc=\"Basic charity information\", optional=True),\n",
                "    \n",
                "    \"Financial Summary\": Field({\n",
                "        \"Net Income\": Field(float, desc=\"Net income before other recognised gains and losses\", optional=True),\n",
                "        \"Investment Gains/Losses\": Field(float, desc=\"Net gains or losses on investments\", optional=True),\n",
                "        \"Accumulated Funds\": Field(float, desc=\"Total accumulated funds at year end\", optional=True),\n",
                "        \"Previous Year Accumulated Funds\": Field(float, desc=\"Total accumulated funds from previous year\", optional=True),\n",
                "    }, desc=\"Key financial metrics\", optional=True),\n",
                "    \n",
                "    \"Income Sources\": Field({\n",
                "        \"Subscriptions\": Field(float, desc=\"Income from subscriptions\", optional=True),\n",
                "        \"Investment Income\": Field(float, desc=\"Income from investments\", optional=True),\n",
                "        \"Miscellaneous Income\": Field(float, desc=\"Other income sources\", optional=True),\n",
                "    }, desc=\"Breakdown of income sources\", optional=True),\n",
                "    \n",
                "    \"Expenditure\": Field({\n",
                "        \"Grants\": Field(float, desc=\"Total grants made\", optional=True),\n",
                "        \"Maintenance\": Field(float, desc=\"Maintenance and repair costs\", optional=True),\n",
                "        \"Other Costs\": Field(float, desc=\"Other operational costs\", optional=True),\n",
                "    }, desc=\"Breakdown of expenditure\", optional=True),\n",
                "    \n",
                "    \"Investments\": Field({\n",
                "        \"Investment Manager\": Field(str, desc=\"Name of the investment manager\", optional=True),\n",
                "        \"Investment Fund\": Field(str, desc=\"Name of the investment fund\", optional=True),\n",
                "        \"Annual Return\": Field(float, desc=\"Annual return percentage\", optional=True),\n",
                "        \"Total Return Since Inception\": Field(float, desc=\"Total return since fund inception\", optional=True),\n",
                "    }, desc=\"Investment details\", optional=True),\n",
                "    \n",
                "    \"Fixed Assets\": Field({\n",
                "        \"Total Value\": Field(float, desc=\"Total value of tangible fixed assets\", optional=True),\n",
                "        \"Previous Year Value\": Field(float, desc=\"Previous year's value of tangible fixed assets\", optional=True),\n",
                "    }, desc=\"Fixed assets information\", optional=True),\n",
                "    \n",
                "    \"Grant Making\": Field({\n",
                "        \"Total Grants\": Field(float, desc=\"Total amount of grants made\", optional=True),\n",
                "        \"Number of Grants\": Field(int, desc=\"Number of grants made\", optional=True),\n",
                "        \"Grant Policy\": Field(str, desc=\"Brief description of grant making policy\", optional=True),\n",
                "    }, desc=\"Grant making information\", optional=True),\n",
                "    \n",
                "    \"Activities\": Field({\n",
                "        \"Main Objectives\": Field(str, desc=\"Main charitable objectives\", optional=True),\n",
                "        \"Key Achievements\": Field(str, desc=\"Key achievements during the year\", optional=True),\n",
                "        \"Future Plans\": Field(str, desc=\"Plans for future periods\", optional=True),\n",
                "    }, desc=\"Charity activities and objectives\", optional=True)\n",
                "}"
            ]
        },
        {
            "cell_type": "markdown",
            "id": "94e9484d",
            "metadata": {},
            "source": [
                "You can extract data from a single PDF like so"
            ]
        },
        {
            "cell_type": "code",
            "execution_count": null,
            "id": "2f46d9ee",
            "metadata": {},
            "outputs": [
                {
                    "data": {
                        "text/plain": [
                            "{'Charity Details': {'Name': 'Royal Engineers Headquarter Mess',\n",
                            "  'Charity Number': '1202413',\n",
                            "  'Year End': datetime.datetime(2023, 12, 31, 0, 0, tzinfo=TzInfo(UTC))},\n",
                            " 'Financial Summary': {'Net Income': 58496.0,\n",
                            "  'Investment Gains/Losses': -5636.0,\n",
                            "  'Accumulated Funds': 6888993.0,\n",
                            "  'Previous Year Accumulated Funds': 6836133.0},\n",
                            " 'Income Sources': {'Subscriptions': 159800.0,\n",
                            "  'Investment Income': 18217.0,\n",
                            "  'Miscellaneous Income': 1972.0},\n",
                            " 'Expenditure': {'Grants': 48388.0,\n",
                            "  'Maintenance': 4263.0,\n",
                            "  'Other Costs': 161514.0},\n",
                            " 'Investments': {'Investment Manager': 'BlackRock Investment Managers',\n",
                            "  'Investment Fund': 'Armed Forces Charities Growth and Income Fund',\n",
                            "  'Annual Return': 4.3,\n",
                            "  'Total Return Since Inception': 305.5},\n",
                            " 'Fixed Assets': {'Total Value': 6112021.0, 'Previous Year Value': 6113351.0},\n",
                            " 'Grant Making': {'Total Grants': 5000.0,\n",
                            "  'Number of Grants': 1,\n",
                            "  'Grant Policy': 'The RE HQ Mess Policy Committee invites and considers applications to commission new paintings or silver from RE establishments and units.'},\n",
                            " 'Activities': {'Main Objectives': 'The promotion of efficiency of the armed forces of the Crown by the provision and support of facilities and activities for the efficiency and well-being of Service personnel.',\n",
                            "  'Key Achievements': 'Optimised income from subscriptions, maintained income & growth from investments, generated miscellaneous income, pursued planned improvements, maintenance & repair.',\n",
                            "  'Future Plans': 'Maintain voluntary subscriptions, maintain and modify a 3-5 year development agenda, increase annual grant to Corps Guest Nights, investigate potential improvements to the Kellar Bar.'}}"
                        ]
                    },
                    "execution_count": null,
                    "metadata": {},
                    "output_type": "execute_result"
                }
            ],
            "source": [
                "extract_structured(\n",
                "    path='charity_accounts/5211224 2023-12-31 ROYAL ENGINEERS HEADQUARTER MESS.pdf',\n",
                "    schema=schema,\n",
                ")"
            ]
        },
        {
            "cell_type": "markdown",
            "id": "150f5ce6",
            "metadata": {},
            "source": [
                "*magpy* recognises several common textual file formats: `.pdf`, `.txt`, `.md`. If you are trying to extract text from an unsupported file format, you have to first convert it to a text format and use the `extract_structured(texts=...)` argument."
            ]
        },
        {
            "cell_type": "markdown",
            "id": "47e8f910",
            "metadata": {},
            "source": [
                "You can use `extract_structured(paths=...)` to extract texts from a list of files:"
            ]
        },
        {
            "cell_type": "code",
            "execution_count": null,
            "id": "a9586f4b",
            "metadata": {},
            "outputs": [
                {
                    "data": {
                        "text/plain": [
                            "[{'Charity Details': {'Name': 'The David Snowdon Trust',\n",
                            "   'Charity Number': '1078527',\n",
                            "   'Year End': datetime.datetime(2023, 12, 31, 0, 0, tzinfo=TzInfo(UTC))},\n",
                            "  'Financial Summary': {'Net Income': 255951.0,\n",
                            "   'Investment Gains/Losses': 259715.0,\n",
                            "   'Accumulated Funds': 6101209.0,\n",
                            "   'Previous Year Accumulated Funds': 5845258.0},\n",
                            "  'Income Sources': {'Subscriptions': None,\n",
                            "   'Investment Income': 113409.0,\n",
                            "   'Miscellaneous Income': 39675.0},\n",
                            "  'Expenditure': {'Grants': 84975.0,\n",
                            "   'Maintenance': None,\n",
                            "   'Other Costs': 25478.0},\n",
                            "  'Investments': {'Investment Manager': None,\n",
                            "   'Investment Fund': 'Mattioli Woods Growth Fund',\n",
                            "   'Annual Return': 4.28,\n",
                            "   'Total Return Since Inception': None},\n",
                            "  'Fixed Assets': {'Total Value': None, 'Previous Year Value': 367.0},\n",
                            "  'Grant Making': {'Total Grants': 84975.0,\n",
                            "   'Number of Grants': None,\n",
                            "   'Grant Policy': \"The Trustees have updated their grant making policies which are included in the Charity's website (www.dstrust.org.uk), have designed an application form and set out the criteria upon which applications will be judged.\"},\n",
                            "  'Activities': {'Main Objectives': 'The objects of The David Snowdon Trust are such general charitable purposes as the trustees shall think fit, giving special consideration to advance the education of the public, particularly in the arts, to the relief of poverty and, to the relief of suffering, including medical research.',\n",
                            "   'Key Achievements': 'The Trustees have made contact with many similar grant making charities in Cumbria during the year and have become members of the Cumbria Funders Forum, who meet quarterly to discuss matters of mutual interest and have attended funders fairs in Barrow, Kendal and Penrith.',\n",
                            "   'Future Plans': 'The Trustees are considering a replacement Bursary scheme for the Ulverston Scholarship.'}},\n",
                            " {'Charity Details': {'Name': 'Cats in Crisis',\n",
                            "   'Charity Number': '1122296',\n",
                            "   'Year End': datetime.datetime(2020, 12, 31, 0, 0, tzinfo=TzInfo(UTC))},\n",
                            "  'Financial Summary': {'Net Income': 51874.0,\n",
                            "   'Investment Gains/Losses': None,\n",
                            "   'Accumulated Funds': 150840.0,\n",
                            "   'Previous Year Accumulated Funds': 98966.0},\n",
                            "  'Income Sources': {'Subscriptions': None,\n",
                            "   'Investment Income': None,\n",
                            "   'Miscellaneous Income': None},\n",
                            "  'Expenditure': {'Grants': None, 'Maintenance': 1706.0, 'Other Costs': None},\n",
                            "  'Investments': {'Investment Manager': None,\n",
                            "   'Investment Fund': None,\n",
                            "   'Annual Return': None,\n",
                            "   'Total Return Since Inception': None},\n",
                            "  'Fixed Assets': {'Total Value': 359.0, 'Previous Year Value': 538.0},\n",
                            "  'Grant Making': {'Total Grants': None,\n",
                            "   'Number of Grants': None,\n",
                            "   'Grant Policy': None},\n",
                            "  'Activities': {'Main Objectives': '1) For the benefit of the public to assist in the relief of the suffering of cats in need of care, or who have been abandoned, by assisting in the provision of temporary shelter and care for such cats. 2) To advance the education of the public in matters relating to animal welfare in general. 3) To relieve the financial hardship of persons who are unable to afford the fees for spaying and neutering through the provision of a subsidised service.',\n",
                            "   'Key Achievements': \"A very difficult year with the unexpected and unforeseen Covid pandemic and all the implications that had for everyone. As first lockdown continued we became very anxious about the large number of cats that could not be neutered because vets were only carrying out emergency work, and even that on a very restricted scale. Soon we found ourselves coping with unsocialised kittens at an unprecedented rate which continued throughout the year. Trapping them and finding temporary holding space while waiting for vets to offer surgery slots was frustratingly laborious and made everything very difficult to organise. There was also a large increase in the number of cats coming into our care as a result of their owners' inability to look after them, either due to Covid related illness or loss of employment and income. We worked non-stop through all lockdowns and huge credit is due to our small but very dedicated team of volunteers who were determined to do as much rescue work as possible within the restrictions we faced. By taking great care when in contact with members of the public, we were still successful in finding new homes for a significant number of our cats. We also had major financial anxieties as all our usual summer events had to be cancelled and our shop closed for long periods. The impact of this devastating loss of income is likely to continue well into 2021 so we are very anxious about our ability to maintain our usual high level of activity.\",\n",
                            "   'Future Plans': 'Our hopes for 2021 are to look at ways of increasing income, increasing the number of foster homes, and expanding our volunteer workforce with competent and dedicated animal lovers who can continue into the foreseeable future. Cats in Crisis are proud to confirm that they remain a totally voluntary organisation.'}},\n",
                            " {'Charity Details': {'Name': 'Royal Engineers Headquarter Mess',\n",
                            "   'Charity Number': '1202413',\n",
                            "   'Year End': datetime.datetime(2023, 12, 31, 0, 0, tzinfo=TzInfo(UTC))},\n",
                            "  'Financial Summary': {'Net Income': 58496.0,\n",
                            "   'Investment Gains/Losses': -5636.0,\n",
                            "   'Accumulated Funds': 6888993.0,\n",
                            "   'Previous Year Accumulated Funds': 6836133.0},\n",
                            "  'Income Sources': {'Subscriptions': 159800.0,\n",
                            "   'Investment Income': 18217.0,\n",
                            "   'Miscellaneous Income': 1972.0},\n",
                            "  'Expenditure': {'Grants': 48388.0,\n",
                            "   'Maintenance': 4263.0,\n",
                            "   'Other Costs': 161514.0},\n",
                            "  'Investments': {'Investment Manager': 'BlackRock Investment Managers',\n",
                            "   'Investment Fund': 'Armed Forces Charities Growth and Income Fund',\n",
                            "   'Annual Return': 4.3,\n",
                            "   'Total Return Since Inception': 305.5},\n",
                            "  'Fixed Assets': {'Total Value': 6112021.0, 'Previous Year Value': 6113351.0},\n",
                            "  'Grant Making': {'Total Grants': 5000.0,\n",
                            "   'Number of Grants': 1,\n",
                            "   'Grant Policy': 'The RE HQ Mess Policy Committee invites and considers applications to commission new paintings or silver from RE establishments and units.'},\n",
                            "  'Activities': {'Main Objectives': 'The promotion of efficiency of the armed forces of the Crown by the provision and support of facilities and activities for the efficiency and well-being of Service personnel.',\n",
                            "   'Key Achievements': 'Optimised income from subscriptions, maintained income & growth from investments, generated miscellaneous income, pursued planned improvements, maintenance & repair.',\n",
                            "   'Future Plans': 'Maintain voluntary subscriptions, maintain and modify a 3-5 year development agenda, increase annual grant to Corps Guest Nights, investigate potential improvements to the Kellar Bar.'}}]"
                        ]
                    },
                    "execution_count": null,
                    "metadata": {},
                    "output_type": "execute_result"
                }
            ],
            "source": [
                "from pathlib import Path\n",
                "pdfs = list(Path(\"charity_accounts/\").glob(\"*.pdf\"))\n",
                "extract_structured(paths=pdfs, schema=schema)"
            ]
        }
    ],
    "metadata": {
        "jupytext": {
            "cell_metadata_filter": "-all",
            "main_language": "python",
            "notebook_metadata_filter": "-all"
        },
        "kernelspec": {
            "display_name": ".venv",
            "language": "python",
            "name": "python3"
        },
        "language_info": {
            "codemirror_mode": {
                "name": "ipython",
                "version": 3
            },
            "file_extension": ".py",
            "mimetype": "text/x-python",
            "name": "python",
            "nbconvert_exporter": "python",
            "pygments_lexer": "ipython3",
            "version": "3.11.11"
        },
        "nblite_source_hash": "5842bf03fa88d8dc11046b607416e1e412b63f9dd472cd07441254649a050924"
    },
    "nbformat": 4,
    "nbformat_minor": 5
}